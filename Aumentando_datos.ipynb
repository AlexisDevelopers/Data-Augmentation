{
  "cells": [
    {
      "attachments": {},
      "cell_type": "markdown",
      "metadata": {
        "id": "KfWg-ZLBdv-E"
      },
      "source": [
        "# Data Augmentation"
      ]
    },
    {
      "attachments": {},
      "cell_type": "markdown",
      "metadata": {
        "id": "4hs3V-h6eLan"
      },
      "source": [
        "We will work with Fashion-MNIST.\n",
        "\n",
        "Design of a Convolutional Neural Network (CNN) that is trained to classify the digits of the Fashion-MNIST dataset by loading the images with an ImageDataGenerator.\n",
        "\n",
        "First, we train the network with the original undisturbed images, and evaluate them by independently adding rotation, translation, and brightness disturbances, creating an ImageDataGenerator for each disturbance. We report the validation accuracy metrics for each of the assessments.\n",
        "\n",
        "Second, we retrain the model from scratch, now making use of the training data with perturbations, and we evaluate it again to verify that the model's robustness is now greater."
      ]
    },
    {
      "cell_type": "code",
      "execution_count": null,
      "metadata": {
        "colab": {
          "base_uri": "https://localhost:8080/"
        },
        "id": "k6Zp1vdZBX45",
        "outputId": "b2079b4f-9313-43b6-a4dc-ece0da0d0b24"
      },
      "outputs": [
        {
          "name": "stdout",
          "output_type": "stream",
          "text": [
            "Downloading data from https://storage.googleapis.com/tensorflow/tf-keras-datasets/train-labels-idx1-ubyte.gz\n",
            "29515/29515 [==============================] - 0s 0us/step\n",
            "Downloading data from https://storage.googleapis.com/tensorflow/tf-keras-datasets/train-images-idx3-ubyte.gz\n",
            "26421880/26421880 [==============================] - 0s 0us/step\n",
            "Downloading data from https://storage.googleapis.com/tensorflow/tf-keras-datasets/t10k-labels-idx1-ubyte.gz\n",
            "5148/5148 [==============================] - 0s 0us/step\n",
            "Downloading data from https://storage.googleapis.com/tensorflow/tf-keras-datasets/t10k-images-idx3-ubyte.gz\n",
            "4422102/4422102 [==============================] - 0s 0us/step\n"
          ]
        }
      ],
      "source": [
        "# We import the necessary libraries.\n",
        "\n",
        "import numpy as np\n",
        "import tensorflow as tf\n",
        "import matplotlib.pyplot as plt\n",
        "import random\n",
        "from tensorflow.keras.layers     import *\n",
        "from tensorflow.keras.optimizers import *\n",
        "from tensorflow.keras.utils      import to_categorical\n",
        "from tensorflow.keras            import Sequential\n",
        "from tensorflow.keras.callbacks import EarlyStopping\n",
        "from tensorflow.keras.preprocessing.image import ImageDataGenerator\n",
        "\n",
        "# We import the dataset from the Keras datasets module.\n",
        "(X_train, Y_train), (X_test, Y_test) = tf.keras.datasets.fashion_mnist.load_data()"
      ]
    },
    {
      "cell_type": "code",
      "execution_count": null,
      "metadata": {
        "id": "qmauZbi4FCUP"
      },
      "outputs": [],
      "source": [
        "# We use Sklearn's data splitter to train/test\n",
        "from sklearn.model_selection     import train_test_split\n",
        "\n",
        "# Partition train/test split to monitor overfitting.\n",
        "X_train, X_test, Y_train, Y_test = train_test_split(X_train, Y_train, test_size=0.3)"
      ]
    },
    {
      "cell_type": "code",
      "execution_count": null,
      "metadata": {
        "colab": {
          "base_uri": "https://localhost:8080/"
        },
        "id": "f9eRT3E3FF3o",
        "outputId": "c65e7a9d-ee3b-4f28-d201-733495b15ddc"
      },
      "outputs": [
        {
          "name": "stdout",
          "output_type": "stream",
          "text": [
            "Epoch 1/20\n",
            "5250/5250 [==============================] - 60s 11ms/step - loss: 27.7564 - acc: 0.1002 - val_loss: 27.5684 - val_acc: 0.0996\n",
            "Epoch 2/20\n",
            "5250/5250 [==============================] - 52s 10ms/step - loss: 27.7564 - acc: 0.1002 - val_loss: 27.5684 - val_acc: 0.0996\n",
            "Epoch 3/20\n",
            "5250/5250 [==============================] - 55s 10ms/step - loss: 27.7564 - acc: 0.1002 - val_loss: 27.5684 - val_acc: 0.0996\n",
            "Epoch 4/20\n",
            "5250/5250 [==============================] - 54s 10ms/step - loss: nan - acc: 0.1017 - val_loss: nan - val_acc: 0.1014\n",
            "Epoch 5/20\n",
            "5250/5250 [==============================] - 54s 10ms/step - loss: nan - acc: 0.0994 - val_loss: nan - val_acc: 0.1014\n",
            "Epoch 6/20\n",
            "5250/5250 [==============================] - 53s 10ms/step - loss: nan - acc: 0.0994 - val_loss: nan - val_acc: 0.1014\n",
            "Epoch 7/20\n",
            "5250/5250 [==============================] - 54s 10ms/step - loss: nan - acc: 0.0994 - val_loss: nan - val_acc: 0.1014\n"
          ]
        },
        {
          "data": {
            "text/plain": [
              "<keras.callbacks.History at 0x7f70559aea60>"
            ]
          },
          "execution_count": 3,
          "metadata": {},
          "output_type": "execute_result"
        }
      ],
      "source": [
        "model = Sequential()\n",
        "\n",
        "model.add(Conv2D(filters=16, kernel_size=3, activation='relu', input_shape=(28, 28, 1)))\n",
        "model.add(MaxPooling2D())\n",
        "\n",
        "model.add(Conv2D(filters=32, kernel_size=3, activation='relu'))\n",
        "model.add(MaxPooling2D())\n",
        "\n",
        "model.add(Conv2D(filters=64, kernel_size=3, activation='relu'))\n",
        "model.add(MaxPooling2D())\n",
        "\n",
        "model.add(Flatten())\n",
        "model.add(Dense(units=10, activation='softmax')) \n",
        "\n",
        "# ---- MODEL CONFIGURATION ---- #\n",
        "model.compile(optimizer=SGD(learning_rate=0.5), \n",
        "              loss=\"mse\",\n",
        "              metrics=[\"acc\"])\n",
        "\n",
        "# ---- EARLYSTOPPING ---- #\n",
        "early_stop = EarlyStopping(monitor=\"val_acc\", patience=3)\n",
        "\n",
        "\n",
        "# ---- MODEL TRAINING ---- #\n",
        "model.fit(X_train, Y_train,\n",
        "                 validation_data=(X_test, Y_test),\n",
        "                 batch_size=8, callbacks=[early_stop], epochs=20)"
      ]
    },
    {
      "cell_type": "code",
      "execution_count": null,
      "metadata": {
        "id": "_3vlNwQkFLo5"
      },
      "outputs": [],
      "source": [
        "# translation generator\n",
        "shift_test_gen = ImageDataGenerator(width_shift_range =0.25,\n",
        "                                    height_shift_range=0.25).flow(X_test.reshape(-1, 28, 28, 1), Y_test)\n",
        "\n",
        "# Rotation generator\n",
        "rotat_test_gen = ImageDataGenerator(rotation_range=90).flow(X_test.reshape(-1, 28, 28, 1), Y_test)\n",
        "\n",
        "# Glow generator\n",
        "bright_test_gen = ImageDataGenerator(brightness_range=(0.1,0.40)).flow(X_test.reshape(-1, 28, 28, 1), Y_test)"
      ]
    },
    {
      "cell_type": "code",
      "execution_count": null,
      "metadata": {
        "colab": {
          "base_uri": "https://localhost:8080/",
          "height": 274
        },
        "id": "NByL3_AmFO0o",
        "outputId": "4c020f89-69e2-409b-a737-a2ede0f21c02"
      },
      "outputs": [
        {
          "data": {
            "image/png": "[encoded data removed]",
            "text/plain": [
              "<Figure size 288x288 with 1 Axes>"
            ]
          },
          "metadata": {},
          "output_type": "display_data"
        }
      ],
      "source": [
        "# I get images from the generator.\n",
        "batchX, batchY = next(bright_test_gen)\n",
        "\n",
        "# We display the images\n",
        "idx = 2\n",
        "plt.matshow(batchX[idx, :, :, 0])\n",
        "plt.xticks([])\n",
        "plt.yticks([])\n",
        "plt.title(\"Etiqueta: \" + str(np.argmax(batchY[idx])))\n",
        "plt.show()\n"
      ]
    },
    {
      "cell_type": "code",
      "execution_count": null,
      "metadata": {
        "colab": {
          "base_uri": "https://localhost:8080/"
        },
        "id": "dSA5XmNYFS86",
        "outputId": "d97d159f-ff97-4a43-d89d-8b5c28a67579"
      },
      "outputs": [
        {
          "name": "stdout",
          "output_type": "stream",
          "text": [
            "563/563 [==============================] - 11s 19ms/step - loss: nan - acc: 0.1014\n",
            "Traslación: [nan, 0.10138888657093048]\n",
            "--------------\n",
            "563/563 [==============================] - 8s 15ms/step - loss: nan - acc: 0.1014\n",
            "Rotación: [nan, 0.10138888657093048]\n",
            "--------------\n",
            "563/563 [==============================] - 8s 14ms/step - loss: nan - acc: 0.1014\n",
            "Brillo 10-40%: [nan, 0.10138888657093048]\n"
          ]
        }
      ],
      "source": [
        "print('Traslación:', model.evaluate(shift_test_gen))\n",
        "print('--------------')\n",
        "print('Rotación:',   model.evaluate(rotat_test_gen))\n",
        "print('--------------')\n",
        "print('Brillo 10-40%:',  model.evaluate(bright_test_gen))"
      ]
    },
    {
      "cell_type": "code",
      "execution_count": null,
      "metadata": {
        "id": "mjD9fQDtFTh8"
      },
      "outputs": [],
      "source": [
        "# Generator of training images with perturbations.\n",
        "augmentated_train_data = ImageDataGenerator(rescale=1./255,\n",
        "                                            width_shift_range =0.15,\n",
        "                                            height_shift_range=0.15,\n",
        "                                            rotation_range=50,\n",
        "                                            brightness_range=(0.1,0.4)).flow(X_train.reshape(-1, 28, 28, 1), to_categorical(Y_train))\n",
        "\n",
        "\n",
        "# Generator of test images with disturbances.\n",
        "augmentated_test_data = ImageDataGenerator(rescale=1./255,\n",
        "                                           width_shift_range =0.15,\n",
        "                                           height_shift_range=0.15,\n",
        "                                           rotation_range=50,\n",
        "                                           brightness_range=(0.1,0.4)).flow(X_test.reshape(-1, 28, 28, 1), to_categorical(Y_test))"
      ]
    },
    {
      "cell_type": "code",
      "execution_count": null,
      "metadata": {
        "colab": {
          "base_uri": "https://localhost:8080/"
        },
        "id": "XRNG0R28FWL5",
        "outputId": "26116831-6994-4892-e1bb-ec95d7d03338"
      },
      "outputs": [
        {
          "name": "stdout",
          "output_type": "stream",
          "text": [
            "Epoch 1/50\n",
            "1313/1313 [==============================] - 60s 45ms/step - loss: nan - acc: 0.0994 - val_loss: nan - val_acc: 0.1014\n",
            "Epoch 2/50\n",
            "1313/1313 [==============================] - 67s 51ms/step - loss: nan - acc: 0.0994 - val_loss: nan - val_acc: 0.1014\n",
            "Epoch 3/50\n",
            "1313/1313 [==============================] - 68s 51ms/step - loss: nan - acc: 0.0994 - val_loss: nan - val_acc: 0.1014\n",
            "Epoch 4/50\n",
            "1313/1313 [==============================] - 67s 51ms/step - loss: nan - acc: 0.0994 - val_loss: nan - val_acc: 0.1014\n"
          ]
        },
        {
          "data": {
            "text/plain": [
              "<keras.callbacks.History at 0x7f70530ca3a0>"
            ]
          },
          "execution_count": 8,
          "metadata": {},
          "output_type": "execute_result"
        }
      ],
      "source": [
        "from tensorflow.keras import Sequential\n",
        "from tensorflow.keras.layers import Dense, Flatten, Reshape\n",
        "from tensorflow.keras.optimizers import SGD\n",
        "\n",
        "# We compile and configure the model.\n",
        "model.compile(optimizer=SGD(learning_rate=0.1),\n",
        "              loss=\"mse\",\n",
        "              metrics=[\"acc\"])\n",
        "\n",
        "# We train the model.\n",
        "model.fit(augmentated_train_data, validation_data=augmentated_test_data, callbacks=[early_stop], epochs=50)"
      ]
    }
  ],
  "metadata": {
    "colab": {
      "provenance": []
    },
    "kernelspec": {
      "display_name": "Python 3",
      "name": "python3"
    },
    "language_info": {
      "name": "python"
    }
  },
  "nbformat": 4,
  "nbformat_minor": 0
}
